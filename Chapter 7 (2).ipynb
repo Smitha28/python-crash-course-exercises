{
 "cells": [
  {
   "cell_type": "code",
   "execution_count": 1,
   "metadata": {},
   "outputs": [
    {
     "name": "stdout",
     "output_type": "stream",
     "text": [
      "1\n",
      "3\n",
      "5\n",
      "7\n",
      "9\n"
     ]
    }
   ],
   "source": [
    "number=0\n",
    "while number<10:\n",
    "    number+=1\n",
    "    if number%2==0:\n",
    "        continue\n",
    "    print(number)"
   ]
  },
  {
   "cell_type": "code",
   "execution_count": 2,
   "metadata": {},
   "outputs": [
    {
     "name": "stdout",
     "output_type": "stream",
     "text": [
      "We have added cheese to your pizza.\n",
      "We have added tomato sauce to your pizza.\n",
      "We have added pepperoni to your pizza.\n"
     ]
    }
   ],
   "source": [
    "#Exercise 7-4 Pizza Toppings\n",
    "\n",
    "prompt=\"Enter your topping: \"\n",
    "prompt+=\"\\n(Enter quit when you are done adding toppings)\"\n",
    "\n",
    "while True:\n",
    "    topping=input(prompt)\n",
    "    \n",
    "    if topping=='quit':\n",
    "        break\n",
    "    else:\n",
    "        print(\"We have added \"+topping+\" to your pizza.\")"
   ]
  },
  {
   "cell_type": "code",
   "execution_count": 5,
   "metadata": {},
   "outputs": [
    {
     "name": "stdout",
     "output_type": "stream",
     "text": [
      "Your ticket is free!\n"
     ]
    }
   ],
   "source": [
    "#Exercise 7-5 Movie Tickets\n",
    "\n",
    "age=input(\"Enter your age: \")\n",
    "age=int(age)\n",
    "\n",
    "while True:\n",
    "    if age<=3:\n",
    "        print(\"Your ticket is free!\")\n",
    "        break\n",
    "    elif age>3 and age<=12:\n",
    "        print(\"The cost of your ticket is $10.\")\n",
    "        break\n",
    "    elif age > 12:\n",
    "        print(\"The cost of your ticket is $15. \")    \n",
    "        break"
   ]
  },
  {
   "cell_type": "code",
   "execution_count": 6,
   "metadata": {},
   "outputs": [
    {
     "name": "stdout",
     "output_type": "stream",
     "text": [
      "Your ticket is free!\n"
     ]
    }
   ],
   "source": [
    "age=input(\"Enter your age: \")\n",
    "age=int(age)\n",
    "\n",
    "while True:\n",
    "    if age<=3:\n",
    "        print(\"Your ticket is free!\")\n",
    "        break\n",
    "    elif age>3 and age<=12:\n",
    "        print(\"The cost of your ticket is $10.\")\n",
    "        break\n",
    "    elif age > 12:\n",
    "        print(\"The cost of your ticket is $15. \")    \n",
    "        break"
   ]
  },
  {
   "cell_type": "code",
   "execution_count": 7,
   "metadata": {},
   "outputs": [
    {
     "name": "stdout",
     "output_type": "stream",
     "text": [
      "The cost of your ticket is $10.\n"
     ]
    }
   ],
   "source": [
    "age=input(\"Enter your age: \")\n",
    "age=int(age)\n",
    "\n",
    "while True:\n",
    "    if age<=3:\n",
    "        print(\"Your ticket is free!\")\n",
    "        break\n",
    "    elif age>3 and age<=12:\n",
    "        print(\"The cost of your ticket is $10.\")\n",
    "        break\n",
    "    elif age > 12:\n",
    "        print(\"The cost of your ticket is $15. \")    \n",
    "        break"
   ]
  },
  {
   "cell_type": "code",
   "execution_count": 8,
   "metadata": {},
   "outputs": [
    {
     "name": "stdout",
     "output_type": "stream",
     "text": [
      "The cost of your ticket is $15. \n"
     ]
    }
   ],
   "source": [
    "age=input(\"Enter your age: \")\n",
    "age=int(age)\n",
    "\n",
    "while True:\n",
    "    if age<=3:\n",
    "        print(\"Your ticket is free!\")\n",
    "        break\n",
    "    elif age>3 and age<=12:\n",
    "        print(\"The cost of your ticket is $10.\")\n",
    "        break\n",
    "    elif age > 12:\n",
    "        print(\"The cost of your ticket is $15. \")    \n",
    "        break"
   ]
  },
  {
   "cell_type": "code",
   "execution_count": 10,
   "metadata": {},
   "outputs": [
    {
     "name": "stdout",
     "output_type": "stream",
     "text": [
      "Verifying User: Candace.\n",
      "Verifying User: Brian.\n",
      "Verifying User: Alice.\n",
      "\n",
      "The following users have been confirmed: \n",
      "Candace\n",
      "Brian\n",
      "Alice\n"
     ]
    }
   ],
   "source": [
    "unconfirmed_users=['alice', 'brian', 'candace']\n",
    "confirmed_users=[]\n",
    "\n",
    "while unconfirmed_users:\n",
    "    current_user=unconfirmed_users.pop()\n",
    "    \n",
    "    print(\"Verifying User: \"+current_user.title()+\".\")\n",
    "    confirmed_users.append(current_user)\n",
    "    \n",
    "print(\"\\nThe following users have been confirmed: \")\n",
    "for confirmed_user in confirmed_users:\n",
    "    print(confirmed_user.title())"
   ]
  },
  {
   "cell_type": "code",
   "execution_count": 11,
   "metadata": {},
   "outputs": [
    {
     "name": "stdout",
     "output_type": "stream",
     "text": [
      "['dog', 'cat', 'fish', 'cat', 'donkey', 'cat', 'mouse', 'cat']\n",
      "['dog', 'fish', 'donkey', 'mouse']\n"
     ]
    }
   ],
   "source": [
    "pets=['dog', 'cat', 'fish', 'cat', 'donkey', 'cat', 'mouse', 'cat']\n",
    "print(pets)\n",
    "\n",
    "while 'cat' in pets:\n",
    "    pets.remove('cat')\n",
    "    \n",
    "print(pets)"
   ]
  },
  {
   "cell_type": "code",
   "execution_count": 13,
   "metadata": {},
   "outputs": [
    {
     "name": "stdout",
     "output_type": "stream",
     "text": [
      "\n",
      " --- Poll Results ---\n",
      "Smitha would like to climb Mt. everest.\n",
      "Arjun would like to climb Mt. everest.\n"
     ]
    }
   ],
   "source": [
    "#Filling a Dictionary with user input\n",
    "\n",
    "responses={}\n",
    "\n",
    "polling_active=True\n",
    "\n",
    "while polling_active:\n",
    "    name=input(\"\\nWhat is your name? \")\n",
    "    response=input(\"Which mountain would you like to climb someday? \")\n",
    "    \n",
    "    responses[name]=response\n",
    "    \n",
    "    repeat=input(\"Would you like to let another person respond? (yes / no)\")\n",
    "    if repeat == 'no':\n",
    "        polling_active=False\n",
    "        \n",
    "print(\"\\n --- Poll Results ---\")\n",
    "for name, response in responses.items():\n",
    "    print(name.title()+\" would like to climb Mt. \"+response+\".\")\n",
    "        \n",
    "        "
   ]
  },
  {
   "cell_type": "code",
   "execution_count": null,
   "metadata": {},
   "outputs": [],
   "source": [
    "#The End "
   ]
  }
 ],
 "metadata": {
  "kernelspec": {
   "display_name": "Python 3",
   "language": "python",
   "name": "python3"
  },
  "language_info": {
   "codemirror_mode": {
    "name": "ipython",
    "version": 3
   },
   "file_extension": ".py",
   "mimetype": "text/x-python",
   "name": "python",
   "nbconvert_exporter": "python",
   "pygments_lexer": "ipython3",
   "version": "3.6.2"
  }
 },
 "nbformat": 4,
 "nbformat_minor": 2
}
